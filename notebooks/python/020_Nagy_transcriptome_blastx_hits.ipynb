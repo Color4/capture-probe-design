{
 "cells": [
  {
   "cell_type": "markdown",
   "metadata": {},
   "source": [
    "## Load in Nagy transcriptome"
   ]
  },
  {
   "cell_type": "code",
   "execution_count": 2,
   "metadata": {},
   "outputs": [],
   "source": [
    "from Bio import SeqIO\n",
    "\n",
    "Nagy_transcriptome = list(SeqIO.parse(\"../../../data-reference/transcriptomes/Trifolium-repens/Nagy/Nagy_Transcriptome.fasta\", \"fasta\"))"
   ]
  },
  {
   "cell_type": "code",
   "execution_count": 3,
   "metadata": {},
   "outputs": [],
   "source": [
    "# Get record IDs as list\n",
    "Nagy_transcriptome_ids = [record.id for record in Nagy_transcriptome]"
   ]
  },
  {
   "cell_type": "markdown",
   "metadata": {},
   "source": [
    "## Load in ID's of transcripts successfully blasted to protein databases of closely related species. \n",
    "\n",
    "I will compare the IDs in the transcriptome to those that successfully blasted to get a sense of how many of the transcript sequences are contained in the protein databases of the closely related species"
   ]
  },
  {
   "cell_type": "code",
   "execution_count": 122,
   "metadata": {},
   "outputs": [],
   "source": [
    "Metr_Qseqids = list(pd.read_table(\"../../data-clean/020_blastx/Medicago-truncatula/Nagy_transcriptome_ProteinBlast_Filtered.csv\", \n",
    "                                 sep = \",\",usecols = [\"qseqid\"])[\"qseqid\"])\n",
    "Trpr_Qseqids = list(pd.read_table(\"../../data-clean/020_blastx/Trifolium-pratense/Nagy_transcriptome_ProteinBlast_Filtered.csv\", \n",
    "                                 sep = \",\",usecols = [\"qseqid\"])[\"qseqid\"])\n",
    "Trsu_Qseqids = list(pd.read_table(\"../../data-clean/020_blastx/Trifolium-subterraneum/Nagy_transcriptome_ProteinBlast_Filtered.csv\", \n",
    "                                 sep = \",\",usecols = [\"qseqid\"])[\"qseqid\"])"
   ]
  },
  {
   "cell_type": "markdown",
   "metadata": {},
   "source": [
    "## Which transcripts mapped to all 3 closely related species"
   ]
  },
  {
   "cell_type": "code",
   "execution_count": 123,
   "metadata": {},
   "outputs": [],
   "source": [
    "common_among_all_species = list(set(Metr_Qseqids).intersection(Trpr_Qseqids, Trsu_Qseqids))"
   ]
  },
  {
   "cell_type": "markdown",
   "metadata": {},
   "source": [
    "## Which transcripts mapped uniquely to each closely related species"
   ]
  },
  {
   "cell_type": "code",
   "execution_count": 124,
   "metadata": {
    "scrolled": true
   },
   "outputs": [],
   "source": [
    "Metr_unique_transcripts = list(set(Metr_Qseqids).difference(Trpr_Qseqids, Trsu_Qseqids))\n",
    "Trpr_unique_transcripts = list(set(Trpr_Qseqids).difference(Metr_Qseqids, Trsu_Qseqids))\n",
    "Trsu_unique_transcripts = list(set(Trsu_Qseqids).difference(Trpr_Qseqids, Metr_Qseqids))"
   ]
  },
  {
   "cell_type": "markdown",
   "metadata": {},
   "source": [
    "## Which transcripts never mapped to any closely related species"
   ]
  },
  {
   "cell_type": "code",
   "execution_count": 125,
   "metadata": {},
   "outputs": [],
   "source": [
    "transcripts_never_hit = list(set(Nagy_transcriptome_ids).difference(Metr_Qseqids, Trpr_Qseqids, Trsu_Qseqids))"
   ]
  },
  {
   "cell_type": "markdown",
   "metadata": {},
   "source": [
    "## Useful statistics"
   ]
  },
  {
   "cell_type": "code",
   "execution_count": 126,
   "metadata": {},
   "outputs": [
    {
     "name": "stdout",
     "output_type": "stream",
     "text": [
      "12633 transcripts mapped to all 3 closely related species. This represents 17.66 % of all transcripts\n",
      "39588 transcripts never mapped to any closely related species. This represents 55.33 % of all transcripts\n",
      "5960 transcripts mapped only to M. truncatula. This represents 8.33 % of all transcripts\n",
      "3922 transcripts mapped only to T. pratense. This represents 5.48 % of all transcripts\n",
      "2016 transcripts mapped only to T. subterraneum. This represents 2.82 % of all transcripts\n"
     ]
    }
   ],
   "source": [
    "print(len(common_among_all_species), \"transcripts mapped to all 3 closely related species. This represents\", round((len(common_among_all_species) / len(Nagy_transcriptome_ids)*100), 2), \"% of all transcripts\")\n",
    "print(len(transcripts_never_hit), \"transcripts never mapped to any closely related species. This represents\", round((len(transcripts_never_hit) / len(Nagy_transcriptome_ids)*100), 2), \"% of all transcripts\")\n",
    "print(len(Metr_unique_transcripts), \"transcripts mapped only to M. truncatula. This represents\", round((len(Metr_unique_transcripts) / len(Nagy_transcriptome_ids)*100), 2), \"% of all transcripts\")\n",
    "print(len(Trpr_unique_transcripts), \"transcripts mapped only to T. pratense. This represents\", round((len(Trpr_unique_transcripts) / len(Nagy_transcriptome_ids)*100), 2), \"% of all transcripts\")\n",
    "print(len(Trsu_unique_transcripts), \"transcripts mapped only to T. subterraneum. This represents\", round((len(Trsu_unique_transcripts) / len(Nagy_transcriptome_ids)*100), 2), \"% of all transcripts\")"
   ]
  },
  {
   "cell_type": "markdown",
   "metadata": {},
   "source": [
    "## Write IDs of mapped transcripts to disk"
   ]
  },
  {
   "cell_type": "code",
   "execution_count": 127,
   "metadata": {},
   "outputs": [],
   "source": [
    "def write_qseqids(name, qseqid_list):\n",
    "    with open(name, \"w\") as f:\n",
    "        f.write(\"Qseqid\\n\")\n",
    "        for qid in qseqid_list:\n",
    "            f.write(qid + \"\\n\")\n",
    "            \n",
    "write_qseqids(\"../../data-clean/020_blastx/transcript-hits/common_among_all_species.txt\", common_among_all_species)\n",
    "write_qseqids(\"../../data-clean/020_blastx/transcript-hits/Metr_unique_transcripts.txt\", Metr_unique_transcripts)\n",
    "write_qseqids(\"../../data-clean/020_blastx/transcript-hits/Trpr_unique_transcripts.txt\", Trpr_unique_transcripts)\n",
    "write_qseqids(\"../../data-clean/020_blastx/transcript-hits/Trsu_unique_transcripts.txt\", Trsu_unique_transcripts)\n",
    "write_qseqids(\"../../data-clean/020_blastx/transcript-hits/transcripts_never_hit.txt\", transcripts_never_hit)"
   ]
  },
  {
   "cell_type": "markdown",
   "metadata": {},
   "source": [
    "## What about transcripts that mapped to the _T. repens_ protein database?"
   ]
  },
  {
   "cell_type": "code",
   "execution_count": 112,
   "metadata": {},
   "outputs": [],
   "source": [
    "Trre_Qseqids = list(pd.read_table(\"../../data-clean/020_blastx/Trifolium-repens/Nagy_transcriptome_ProteinBlast_Qseqids.txt\",\n",
    "                                 names = [\"Qseqid\"])[\"Qseqid\"])"
   ]
  },
  {
   "cell_type": "code",
   "execution_count": 115,
   "metadata": {},
   "outputs": [
    {
     "data": {
      "text/plain": [
       "2148"
      ]
     },
     "execution_count": 115,
     "metadata": {},
     "output_type": "execute_result"
    }
   ],
   "source": [
    "Trre_unique_transcripts = list(set(Trre_Qseqids).difference(Metr_Qseqids, Trpr_Qseqids, Trsu_Qseqids))\n",
    "len(Trre_unique_transcripts)"
   ]
  },
  {
   "cell_type": "markdown",
   "metadata": {},
   "source": [
    "## Load in ID of sequences to which the Nagy transcripts hit"
   ]
  },
  {
   "cell_type": "code",
   "execution_count": 94,
   "metadata": {},
   "outputs": [],
   "source": [
    "Metr_Seqids = list(pd.read_table(\"../../data-clean/020_blastx/Medicago-truncatula/Nagy_transcriptome_ProteinBlast_Filtered.csv\", \n",
    "                                 sep = \",\",usecols = [\"sseqid\"])[\"sseqid\"])\n",
    "Trpr_Seqids = list(pd.read_table(\"../../data-clean/020_blastx/Trifolium-pratense/Nagy_transcriptome_ProteinBlast_Filtered.csv\", \n",
    "                                 sep = \",\",usecols = [\"sseqid\"])[\"sseqid\"])\n",
    "Trsu_Seqids = list(pd.read_table(\"../../data-clean/020_blastx/Trifolium-subterraneum/Nagy_transcriptome_ProteinBlast_Filtered.csv\", \n",
    "                                 sep = \",\",usecols = [\"sseqid\"])[\"sseqid\"])"
   ]
  },
  {
   "cell_type": "code",
   "execution_count": 97,
   "metadata": {},
   "outputs": [
    {
     "name": "stdout",
     "output_type": "stream",
     "text": [
      "47385 24356\n"
     ]
    }
   ],
   "source": [
    "print(len(Metr_Seqids), len(list(set(Metr_Seqids))))"
   ]
  },
  {
   "cell_type": "code",
   "execution_count": 98,
   "metadata": {},
   "outputs": [],
   "source": [
    "Metr_proteins = list(SeqIO.parse(\"../../data-raw/021_retrieve-proteins/Medicago-truncatula/M-truncatula_ProteinSeqs.fasta\", \"fasta\"))"
   ]
  },
  {
   "cell_type": "code",
   "execution_count": 99,
   "metadata": {},
   "outputs": [
    {
     "data": {
      "text/plain": [
       "47385"
      ]
     },
     "execution_count": 99,
     "metadata": {},
     "output_type": "execute_result"
    }
   ],
   "source": [
    "len(Metr_proteins)"
   ]
  },
  {
   "cell_type": "code",
   "execution_count": 100,
   "metadata": {},
   "outputs": [],
   "source": [
    "Metr_blastx = pd.read_table(\"../../data-clean/020_blastx/Medicago-truncatula/Nagy_transcriptome_ProteinBlast_Filtered.csv\", \n",
    "                                 sep = \",\")"
   ]
  },
  {
   "cell_type": "code",
   "execution_count": 103,
   "metadata": {},
   "outputs": [],
   "source": [
    "filtered = Metr_blastx.sort_values('length', ascending=False).drop_duplicates(['sseqid'])"
   ]
  },
  {
   "cell_type": "code",
   "execution_count": 133,
   "metadata": {},
   "outputs": [],
   "source": [
    "species = \"Medicago-truncatula\"\n",
    "ProteinBlast_filtered = pd.read_csv(\"../../data-clean/020_blastx/{0}/Nagy_transcriptome_ProteinBlast_Filtered.csv\".format(species), usecols = [\"qseqid\",\"sseqid\"])"
   ]
  },
  {
   "cell_type": "code",
   "execution_count": 140,
   "metadata": {},
   "outputs": [],
   "source": [
    "lst = ProteinBlast_filtered.values.tolist()"
   ]
  },
  {
   "cell_type": "code",
   "execution_count": 139,
   "metadata": {
    "collapsed": true
   },
   "outputs": [
    {
     "data": {
      "text/html": [
       "<div>\n",
       "<table border=\"1\" class=\"dataframe\">\n",
       "  <thead>\n",
       "    <tr style=\"text-align: right;\">\n",
       "      <th></th>\n",
       "      <th>qseqid</th>\n",
       "      <th>sseqid</th>\n",
       "    </tr>\n",
       "  </thead>\n",
       "  <tbody>\n",
       "    <tr>\n",
       "      <th>0</th>\n",
       "      <td>wcd-682</td>\n",
       "      <td>CBD19748.1</td>\n",
       "    </tr>\n",
       "    <tr>\n",
       "      <th>1</th>\n",
       "      <td>wcd-1034</td>\n",
       "      <td>XP_024632994.1</td>\n",
       "    </tr>\n",
       "    <tr>\n",
       "      <th>2</th>\n",
       "      <td>wcd-2083</td>\n",
       "      <td>AES73670.1</td>\n",
       "    </tr>\n",
       "    <tr>\n",
       "      <th>3</th>\n",
       "      <td>wcd-1502</td>\n",
       "      <td>AES69447.1</td>\n",
       "    </tr>\n",
       "    <tr>\n",
       "      <th>4</th>\n",
       "      <td>wcd-842</td>\n",
       "      <td>AES59251.1</td>\n",
       "    </tr>\n",
       "    <tr>\n",
       "      <th>5</th>\n",
       "      <td>wcd-1056</td>\n",
       "      <td>XP_024633092.1</td>\n",
       "    </tr>\n",
       "    <tr>\n",
       "      <th>6</th>\n",
       "      <td>wcd-4291</td>\n",
       "      <td>AET04209.1</td>\n",
       "    </tr>\n",
       "    <tr>\n",
       "      <th>7</th>\n",
       "      <td>wcd-2862</td>\n",
       "      <td>AES73003.1</td>\n",
       "    </tr>\n",
       "    <tr>\n",
       "      <th>8</th>\n",
       "      <td>wcd-2606</td>\n",
       "      <td>AES67239.1</td>\n",
       "    </tr>\n",
       "    <tr>\n",
       "      <th>9</th>\n",
       "      <td>wcd-2573</td>\n",
       "      <td>AES68070.1</td>\n",
       "    </tr>\n",
       "    <tr>\n",
       "      <th>10</th>\n",
       "      <td>wcd-1929</td>\n",
       "      <td>AES80719.2</td>\n",
       "    </tr>\n",
       "    <tr>\n",
       "      <th>11</th>\n",
       "      <td>wcd-1236</td>\n",
       "      <td>KEH31901.1</td>\n",
       "    </tr>\n",
       "    <tr>\n",
       "      <th>12</th>\n",
       "      <td>wcd-1849</td>\n",
       "      <td>KEH29770.1</td>\n",
       "    </tr>\n",
       "    <tr>\n",
       "      <th>13</th>\n",
       "      <td>wcd-7604</td>\n",
       "      <td>AES89624.1</td>\n",
       "    </tr>\n",
       "    <tr>\n",
       "      <th>14</th>\n",
       "      <td>wcd-971</td>\n",
       "      <td>AET00054.1</td>\n",
       "    </tr>\n",
       "    <tr>\n",
       "      <th>15</th>\n",
       "      <td>wcd-3312</td>\n",
       "      <td>AES81724.1</td>\n",
       "    </tr>\n",
       "    <tr>\n",
       "      <th>16</th>\n",
       "      <td>wcd-6773</td>\n",
       "      <td>XP_003607217.2</td>\n",
       "    </tr>\n",
       "    <tr>\n",
       "      <th>17</th>\n",
       "      <td>wcd-1434</td>\n",
       "      <td>AES63825.2</td>\n",
       "    </tr>\n",
       "    <tr>\n",
       "      <th>18</th>\n",
       "      <td>wcd-3203</td>\n",
       "      <td>KEH19158.1</td>\n",
       "    </tr>\n",
       "    <tr>\n",
       "      <th>19</th>\n",
       "      <td>wcd-413</td>\n",
       "      <td>KEH35688.1</td>\n",
       "    </tr>\n",
       "    <tr>\n",
       "      <th>20</th>\n",
       "      <td>wcd-1895</td>\n",
       "      <td>AES90053.1</td>\n",
       "    </tr>\n",
       "    <tr>\n",
       "      <th>21</th>\n",
       "      <td>wcd-7749</td>\n",
       "      <td>KEH20815.1</td>\n",
       "    </tr>\n",
       "    <tr>\n",
       "      <th>22</th>\n",
       "      <td>wcd-1655</td>\n",
       "      <td>AET05487.1</td>\n",
       "    </tr>\n",
       "    <tr>\n",
       "      <th>23</th>\n",
       "      <td>wcd-3964</td>\n",
       "      <td>AES59193.2</td>\n",
       "    </tr>\n",
       "    <tr>\n",
       "      <th>24</th>\n",
       "      <td>wcd-2349</td>\n",
       "      <td>AES95205.1</td>\n",
       "    </tr>\n",
       "    <tr>\n",
       "      <th>25</th>\n",
       "      <td>wcd-3472</td>\n",
       "      <td>KEH23293.1</td>\n",
       "    </tr>\n",
       "    <tr>\n",
       "      <th>26</th>\n",
       "      <td>wcd-462</td>\n",
       "      <td>ADV03139.1</td>\n",
       "    </tr>\n",
       "    <tr>\n",
       "      <th>27</th>\n",
       "      <td>wcd-1617</td>\n",
       "      <td>AES92277.1</td>\n",
       "    </tr>\n",
       "    <tr>\n",
       "      <th>28</th>\n",
       "      <td>wcd-1998</td>\n",
       "      <td>KEH40645.1</td>\n",
       "    </tr>\n",
       "    <tr>\n",
       "      <th>29</th>\n",
       "      <td>wcd-3822</td>\n",
       "      <td>KEH30273.1</td>\n",
       "    </tr>\n",
       "    <tr>\n",
       "      <th>...</th>\n",
       "      <td>...</td>\n",
       "      <td>...</td>\n",
       "    </tr>\n",
       "    <tr>\n",
       "      <th>24326</th>\n",
       "      <td>wcs-18919</td>\n",
       "      <td>AES63536.1</td>\n",
       "    </tr>\n",
       "    <tr>\n",
       "      <th>24327</th>\n",
       "      <td>wcc-20790</td>\n",
       "      <td>KEH36930.1</td>\n",
       "    </tr>\n",
       "    <tr>\n",
       "      <th>24328</th>\n",
       "      <td>wcs-28783</td>\n",
       "      <td>KEH32543.1</td>\n",
       "    </tr>\n",
       "    <tr>\n",
       "      <th>24329</th>\n",
       "      <td>wcs-13088</td>\n",
       "      <td>KEH21604.1</td>\n",
       "    </tr>\n",
       "    <tr>\n",
       "      <th>24330</th>\n",
       "      <td>wcc-29988</td>\n",
       "      <td>AFK42127.1</td>\n",
       "    </tr>\n",
       "    <tr>\n",
       "      <th>24331</th>\n",
       "      <td>wcs-26658</td>\n",
       "      <td>AES74233.1</td>\n",
       "    </tr>\n",
       "    <tr>\n",
       "      <th>24332</th>\n",
       "      <td>wcs-28332</td>\n",
       "      <td>KEH23501.1</td>\n",
       "    </tr>\n",
       "    <tr>\n",
       "      <th>24333</th>\n",
       "      <td>wcs-29057</td>\n",
       "      <td>KEH31690.1</td>\n",
       "    </tr>\n",
       "    <tr>\n",
       "      <th>24334</th>\n",
       "      <td>wcs-15787</td>\n",
       "      <td>AES61641.1</td>\n",
       "    </tr>\n",
       "    <tr>\n",
       "      <th>24335</th>\n",
       "      <td>wcd-26243</td>\n",
       "      <td>XP_024627824.1</td>\n",
       "    </tr>\n",
       "    <tr>\n",
       "      <th>24336</th>\n",
       "      <td>wcs-26363</td>\n",
       "      <td>AES92178.1</td>\n",
       "    </tr>\n",
       "    <tr>\n",
       "      <th>24337</th>\n",
       "      <td>wcs-25333</td>\n",
       "      <td>KEH40379.1</td>\n",
       "    </tr>\n",
       "    <tr>\n",
       "      <th>24338</th>\n",
       "      <td>wcs-27123</td>\n",
       "      <td>KEH38461.1</td>\n",
       "    </tr>\n",
       "    <tr>\n",
       "      <th>24339</th>\n",
       "      <td>wcc-29543</td>\n",
       "      <td>KEH40922.1</td>\n",
       "    </tr>\n",
       "    <tr>\n",
       "      <th>24340</th>\n",
       "      <td>wcs-24540</td>\n",
       "      <td>AES81287.1</td>\n",
       "    </tr>\n",
       "    <tr>\n",
       "      <th>24341</th>\n",
       "      <td>wcc-35259</td>\n",
       "      <td>KEH17674.1</td>\n",
       "    </tr>\n",
       "    <tr>\n",
       "      <th>24342</th>\n",
       "      <td>wcc-38342</td>\n",
       "      <td>AES67629.1</td>\n",
       "    </tr>\n",
       "    <tr>\n",
       "      <th>24343</th>\n",
       "      <td>wcs-5926</td>\n",
       "      <td>KEH42596.1</td>\n",
       "    </tr>\n",
       "    <tr>\n",
       "      <th>24344</th>\n",
       "      <td>wcs-13044</td>\n",
       "      <td>AES61500.1</td>\n",
       "    </tr>\n",
       "    <tr>\n",
       "      <th>24345</th>\n",
       "      <td>wcs-7908</td>\n",
       "      <td>KEH30822.1</td>\n",
       "    </tr>\n",
       "    <tr>\n",
       "      <th>24346</th>\n",
       "      <td>wcs-27339</td>\n",
       "      <td>AES60907.1</td>\n",
       "    </tr>\n",
       "    <tr>\n",
       "      <th>24347</th>\n",
       "      <td>wcc-16468</td>\n",
       "      <td>AET05049.1</td>\n",
       "    </tr>\n",
       "    <tr>\n",
       "      <th>24348</th>\n",
       "      <td>wcc-31693</td>\n",
       "      <td>AFK34353.1</td>\n",
       "    </tr>\n",
       "    <tr>\n",
       "      <th>24349</th>\n",
       "      <td>wcs-19843</td>\n",
       "      <td>XP_024626257.1</td>\n",
       "    </tr>\n",
       "    <tr>\n",
       "      <th>24350</th>\n",
       "      <td>wcs-2648</td>\n",
       "      <td>AES68312.1</td>\n",
       "    </tr>\n",
       "    <tr>\n",
       "      <th>24351</th>\n",
       "      <td>wcs-21702</td>\n",
       "      <td>KEH18187.1</td>\n",
       "    </tr>\n",
       "    <tr>\n",
       "      <th>24352</th>\n",
       "      <td>wcs-17559</td>\n",
       "      <td>AFK48677.1</td>\n",
       "    </tr>\n",
       "    <tr>\n",
       "      <th>24353</th>\n",
       "      <td>wcc-35491</td>\n",
       "      <td>AES67904.1</td>\n",
       "    </tr>\n",
       "    <tr>\n",
       "      <th>24354</th>\n",
       "      <td>wcs-29364</td>\n",
       "      <td>AES64298.2</td>\n",
       "    </tr>\n",
       "    <tr>\n",
       "      <th>24355</th>\n",
       "      <td>wcs-28833</td>\n",
       "      <td>AES77907.1</td>\n",
       "    </tr>\n",
       "  </tbody>\n",
       "</table>\n",
       "<p>24356 rows × 2 columns</p>\n",
       "</div>"
      ],
      "text/plain": [
       "          qseqid          sseqid\n",
       "0        wcd-682      CBD19748.1\n",
       "1       wcd-1034  XP_024632994.1\n",
       "2       wcd-2083      AES73670.1\n",
       "3       wcd-1502      AES69447.1\n",
       "4        wcd-842      AES59251.1\n",
       "5       wcd-1056  XP_024633092.1\n",
       "6       wcd-4291      AET04209.1\n",
       "7       wcd-2862      AES73003.1\n",
       "8       wcd-2606      AES67239.1\n",
       "9       wcd-2573      AES68070.1\n",
       "10      wcd-1929      AES80719.2\n",
       "11      wcd-1236      KEH31901.1\n",
       "12      wcd-1849      KEH29770.1\n",
       "13      wcd-7604      AES89624.1\n",
       "14       wcd-971      AET00054.1\n",
       "15      wcd-3312      AES81724.1\n",
       "16      wcd-6773  XP_003607217.2\n",
       "17      wcd-1434      AES63825.2\n",
       "18      wcd-3203      KEH19158.1\n",
       "19       wcd-413      KEH35688.1\n",
       "20      wcd-1895      AES90053.1\n",
       "21      wcd-7749      KEH20815.1\n",
       "22      wcd-1655      AET05487.1\n",
       "23      wcd-3964      AES59193.2\n",
       "24      wcd-2349      AES95205.1\n",
       "25      wcd-3472      KEH23293.1\n",
       "26       wcd-462      ADV03139.1\n",
       "27      wcd-1617      AES92277.1\n",
       "28      wcd-1998      KEH40645.1\n",
       "29      wcd-3822      KEH30273.1\n",
       "...          ...             ...\n",
       "24326  wcs-18919      AES63536.1\n",
       "24327  wcc-20790      KEH36930.1\n",
       "24328  wcs-28783      KEH32543.1\n",
       "24329  wcs-13088      KEH21604.1\n",
       "24330  wcc-29988      AFK42127.1\n",
       "24331  wcs-26658      AES74233.1\n",
       "24332  wcs-28332      KEH23501.1\n",
       "24333  wcs-29057      KEH31690.1\n",
       "24334  wcs-15787      AES61641.1\n",
       "24335  wcd-26243  XP_024627824.1\n",
       "24336  wcs-26363      AES92178.1\n",
       "24337  wcs-25333      KEH40379.1\n",
       "24338  wcs-27123      KEH38461.1\n",
       "24339  wcc-29543      KEH40922.1\n",
       "24340  wcs-24540      AES81287.1\n",
       "24341  wcc-35259      KEH17674.1\n",
       "24342  wcc-38342      AES67629.1\n",
       "24343   wcs-5926      KEH42596.1\n",
       "24344  wcs-13044      AES61500.1\n",
       "24345   wcs-7908      KEH30822.1\n",
       "24346  wcs-27339      AES60907.1\n",
       "24347  wcc-16468      AET05049.1\n",
       "24348  wcc-31693      AFK34353.1\n",
       "24349  wcs-19843  XP_024626257.1\n",
       "24350   wcs-2648      AES68312.1\n",
       "24351  wcs-21702      KEH18187.1\n",
       "24352  wcs-17559      AFK48677.1\n",
       "24353  wcc-35491      AES67904.1\n",
       "24354  wcs-29364      AES64298.2\n",
       "24355  wcs-28833      AES77907.1\n",
       "\n",
       "[24356 rows x 2 columns]"
      ]
     },
     "execution_count": 139,
     "metadata": {},
     "output_type": "execute_result"
    }
   ],
   "source": [
    "ProteinBlast_filtered"
   ]
  },
  {
   "cell_type": "code",
   "execution_count": 146,
   "metadata": {},
   "outputs": [
    {
     "name": "stdout",
     "output_type": "stream",
     "text": [
      "CBD19748.1 wcd-682\n"
     ]
    }
   ],
   "source": [
    "for pair in lst:\n",
    "    print(pair[1], pair[0])\n",
    "    break"
   ]
  },
  {
   "cell_type": "code",
   "execution_count": null,
   "metadata": {},
   "outputs": [],
   "source": []
  }
 ],
 "metadata": {
  "kernelspec": {
   "display_name": "Python 2",
   "language": "python",
   "name": "python2"
  },
  "language_info": {
   "codemirror_mode": {
    "name": "ipython",
    "version": 2
   },
   "file_extension": ".py",
   "mimetype": "text/x-python",
   "name": "python",
   "nbconvert_exporter": "python",
   "pygments_lexer": "ipython2",
   "version": "2.7.13"
  }
 },
 "nbformat": 4,
 "nbformat_minor": 2
}
