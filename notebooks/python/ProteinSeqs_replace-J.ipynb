{
 "cells": [
  {
   "cell_type": "code",
   "execution_count": 27,
   "metadata": {},
   "outputs": [],
   "source": [
    "from Bio import SeqIO\n",
    "from Bio.Seq import Seq\n",
    "\n",
    "Trpr_proteinSeqs = list(SeqIO.parse(\"T-pratense_ProteinSeqs.fasta\", \"fasta\"))\n",
    "Metr_proteinSeqs = list(SeqIO.parse(\"M-truncatula_ProteinSeqs.fasta\", \"fasta\"))\n",
    "Trsu_proteinSeqs = list(SeqIO.parse(\"T-subterraneum_ProteinSeqs.fasta\", \"fasta\"))"
   ]
  },
  {
   "cell_type": "code",
   "execution_count": 48,
   "metadata": {},
   "outputs": [],
   "source": [
    "import re \n",
    "\n",
    "def protein_fasta_replace_J(multi_fasta):\n",
    "    \n",
    "    new_name = multi_fasta.split(\".\")[0] + \"_Modified.\" + multi_fasta.split(\".\")[1]\n",
    "    \n",
    "    with open(new_name, \"w\") as f:\n",
    "        for record in SeqIO.parse(multi_fasta, \"fasta\"):\n",
    "            if \"J\" in record.seq:\n",
    "                sequence = str(record.seq)\n",
    "                occurences = [m.start() for m in re.finditer(\"J\", sequence)]\n",
    "                recordSeq_list = list(sequence)\n",
    "                for occurence in occurences:\n",
    "                    recordSeq_list[occurence] = \"I\"\n",
    "                sequence = ''.join(recordSeq_list)\n",
    "                f.write(\">\" + str(record.id) + \"\\n\")\n",
    "                f.write(str(sequence) + \"\\n\")\n",
    "            else:\n",
    "                f.write(\">\" + str(record.id) + \"\\n\")\n",
    "                f.write(str(record.seq) + \"\\n\")\n",
    "\n",
    "protein_fasta_replace_J(\"T-pratense_ProteinSeqs.fasta\")\n",
    "    \n",
    "    "
   ]
  },
  {
   "cell_type": "code",
   "execution_count": 28,
   "metadata": {},
   "outputs": [
    {
     "name": "stdout",
     "output_type": "stream",
     "text": [
      "PNY12279.1 J\n",
      "PNX91226.1 J\n",
      "PNX91226.1 J\n",
      "PNY15212.1 J\n",
      "PNX70360.1 J\n",
      "PNY00862.1 J\n",
      "PNX91226.1 J\n",
      "PNX76895.1 J\n",
      "PNY15212.1 J\n",
      "PNX88547.1 J\n",
      "PNY15212.1 J\n",
      "PNX75638.1 J\n",
      "PNY15212.1 J\n",
      "PNX70753.1 J\n",
      "PNY15212.1 J\n",
      "PNX62748.1 J\n",
      "PNX96187.1 J\n"
     ]
    }
   ],
   "source": [
    "for record in Trpr_proteinSeqs:\n",
    "    if \"J\" in record.seq:\n",
    "        print(record.id, \"J\")"
   ]
  },
  {
   "cell_type": "code",
   "execution_count": 19,
   "metadata": {},
   "outputs": [],
   "source": [
    "for record in Trsu_proteinSeqs:\n",
    "    if \"J\" in record.seq:\n",
    "        print(record.id, \"J\")"
   ]
  },
  {
   "cell_type": "code",
   "execution_count": null,
   "metadata": {},
   "outputs": [],
   "source": []
  }
 ],
 "metadata": {
  "kernelspec": {
   "display_name": "Python 2",
   "language": "python",
   "name": "python2"
  },
  "language_info": {
   "codemirror_mode": {
    "name": "ipython",
    "version": 2
   },
   "file_extension": ".py",
   "mimetype": "text/x-python",
   "name": "python",
   "nbconvert_exporter": "python",
   "pygments_lexer": "ipython2",
   "version": "2.7.13"
  }
 },
 "nbformat": 4,
 "nbformat_minor": 2
}
