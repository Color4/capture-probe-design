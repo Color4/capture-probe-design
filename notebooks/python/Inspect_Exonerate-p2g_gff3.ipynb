{
 "cells": [
  {
   "cell_type": "markdown",
   "metadata": {},
   "source": [
    "## Create database from gff3 files \n",
    "\n",
    "Only needs to be done once"
   ]
  },
  {
   "cell_type": "code",
   "execution_count": 1,
   "metadata": {},
   "outputs": [],
   "source": [
    "# Import gffutils, which is installed in home directory\n",
    "import gffutils\n",
    "\n",
    "# Creates a SQL3 database from the annotation file. THIS COMMAND ONLY NEEDS TO BE RUN ONCE. \n",
    "# Metr_db = gffutils.create_db(\"../../data-clean/020_exonerate_p2g/Medicago-truncatula/Nagy_transcriptome_p2g.gff3\", \n",
    "#                              dbfn='../../data-clean/020_exonerate_p2g/Medicago-truncatula/Nagy_transcriptome_p2g.db', \n",
    "#                              force=True, keep_order=True, merge_strategy='merge', sort_attribute_values=True)\n",
    "\n",
    "# Trpr_db = gffutils.create_db(\"../../data-clean/020_exonerate_p2g/Trifolium-pratense//Nagy_transcriptome_p2g.gff3\", \n",
    "#                              dbfn='../../data-clean/020_exonerate_p2g/Trifolium-pratense/Nagy_transcriptome_p2g.db', \n",
    "#                              force=True, keep_order=True, merge_strategy='merge', sort_attribute_values=True)\n",
    "\n",
    "# Trsu_db = gffutils.create_db(\"../../data-clean/020_exonerate_p2g/Trifolium-subterraneum//Nagy_transcriptome_p2g.gff3\", \n",
    "#                              dbfn='../../data-clean/020_exonerate_p2g/Trifolium-subterraneum/Nagy_transcriptome_p2g.db', \n",
    "#                              force=True, keep_order=True, merge_strategy='merge', sort_attribute_values=True)"
   ]
  },
  {
   "cell_type": "markdown",
   "metadata": {},
   "source": [
    "## Load in the databases"
   ]
  },
  {
   "cell_type": "code",
   "execution_count": 29,
   "metadata": {},
   "outputs": [],
   "source": [
    "# Load the database created above\n",
    "Metr_db = gffutils.FeatureDB(\"../../data-clean/030_exonerate_p2g/Medicago-truncatula/Nagy_transcriptome_p2g.db\")\n",
    "Trpr_db = gffutils.FeatureDB(\"../../data-clean/030_exonerate_p2g/Trifolium-pratense/Nagy_transcriptome_p2g.db\")\n",
    "Trsu_db = gffutils.FeatureDB(\"../../data-clean/030_exonerate_p2g/Trifolium-subterraneum/Nagy_transcriptome_p2g.db\")"
   ]
  },
  {
   "cell_type": "markdown",
   "metadata": {},
   "source": [
    "## Define useful functions used throughout notebook"
   ]
  },
  {
   "cell_type": "code",
   "execution_count": 37,
   "metadata": {},
   "outputs": [],
   "source": [
    "def count_features(gff3_database):\n",
    "    \"\"\"Returns count of all features in gff3 database as dictionary\"\"\"\n",
    "\n",
    "    features = {}\n",
    "    for feature in gff3_database.featuretypes():\n",
    "        features[feature] = gff3_database.count_features_of_type(feature)\n",
    "    return features\n",
    "\n",
    "def unique_gff3_gene_ids(gff3_database):\n",
    "    \"\"\"Returns list of unique ids in gff3 database\"\"\"\n",
    "\n",
    "    unique_ids = []\n",
    "    for feature in gff3_database.features_of_type(\"gene\"):\n",
    "        if not any([x in feature.id for x in unique_ids]):\n",
    "            unique_ids.append(feature.id)\n",
    "    return(unique_ids)\n",
    "\n",
    "def cds_length(IDs, gff3_database):\n",
    "    \"\"\"Returns a list with the length of each coding sequence in the gff3\"\"\"\n",
    "    \n",
    "    cds_lengths = []\n",
    "    for unique_id in IDs:\n",
    "        for child in gff3_database.children(unique_id, featuretype = \"cds\"):\n",
    "            cds_lengths.append(child.end - child.start)\n",
    "    return(cds_lengths)"
   ]
  },
  {
   "cell_type": "markdown",
   "metadata": {},
   "source": [
    "## Create unique id lists for reference species and plot cds size distribution"
   ]
  },
  {
   "cell_type": "markdown",
   "metadata": {},
   "source": [
    "### _Trifolium subterraneum_"
   ]
  },
  {
   "cell_type": "code",
   "execution_count": 31,
   "metadata": {},
   "outputs": [],
   "source": [
    "Trsu_unique_ids = unique_gff3_gene_ids(Trsu_db)"
   ]
  },
  {
   "cell_type": "code",
   "execution_count": 45,
   "metadata": {},
   "outputs": [
    {
     "name": "stdout",
     "output_type": "stream",
     "text": [
      "There are 13059 unique gene ids in the T. subterraneum gff3 file\n"
     ]
    }
   ],
   "source": [
    "print \"There are\", len(Trsu_unique_ids), \"unique gene ids in the T. subterraneum gff3 file\""
   ]
  },
  {
   "cell_type": "code",
   "execution_count": 39,
   "metadata": {},
   "outputs": [],
   "source": [
    "Trsu_cds_length = cds_length(Trsu_unique_ids, Trsu_db)"
   ]
  },
  {
   "cell_type": "code",
   "execution_count": 43,
   "metadata": {
    "scrolled": true
   },
   "outputs": [
    {
     "data": {
      "image/png": "[encoded data removed]",
      "text/plain": [
       "<matplotlib.figure.Figure at 0x108678b90>"
      ]
     },
     "metadata": {},
     "output_type": "display_data"
    }
   ],
   "source": [
    "from matplotlib import pyplot as plt\n",
    "\n",
    "plt.figure(figsize = (10, 5))\n",
    "plt.hist(Trsu_cds_length, bins = 100, range = (0, 3100))\n",
    "plt.xlabel(\"Transcript size\", size = 18)\n",
    "plt.ylabel(\"Count\", size = 18)\n",
    "plt.tick_params(labelsize=15)\n",
    "plt.show()"
   ]
  },
  {
   "cell_type": "code",
   "execution_count": 46,
   "metadata": {
    "scrolled": true
   },
   "outputs": [
    {
     "name": "stdout",
     "output_type": "stream",
     "text": [
      "There are 20064 coding sequences between 200 and 800 bp in length\n"
     ]
    }
   ],
   "source": [
    "Trsu_count_bt_200_800 = 0\n",
    "for length in Trsu_cds_length:\n",
    "    if length >= 200 and length <= 800:\n",
    "        Trsu_count_bt_200_800 += 1\n",
    "        \n",
    "print \"There are\",  Trsu_count_bt_200_800, \"coding sequences between 200 and 800 bp in length\"       "
   ]
  },
  {
   "cell_type": "markdown",
   "metadata": {},
   "source": [
    "### _Trifolium pratense_"
   ]
  },
  {
   "cell_type": "code",
   "execution_count": 47,
   "metadata": {},
   "outputs": [],
   "source": [
    "Trpr_unique_ids = unique_gff3_gene_ids(Trpr_db)"
   ]
  },
  {
   "cell_type": "code",
   "execution_count": 48,
   "metadata": {},
   "outputs": [
    {
     "name": "stdout",
     "output_type": "stream",
     "text": [
      "There are 10618 unique gene ids in the T. pratense gff3 file\n"
     ]
    }
   ],
   "source": [
    "print \"There are\", len(Trpr_unique_ids), \"unique gene ids in the T. pratense gff3 file\""
   ]
  },
  {
   "cell_type": "code",
   "execution_count": 49,
   "metadata": {},
   "outputs": [],
   "source": [
    "Trpr_cds_length = cds_length(Trpr_unique_ids, Trpr_db)"
   ]
  },
  {
   "cell_type": "code",
   "execution_count": 51,
   "metadata": {
    "scrolled": true
   },
   "outputs": [
    {
     "data": {
      "image/png": "[encoded data removed]",
      "text/plain": [
       "<matplotlib.figure.Figure at 0x10ba62e10>"
      ]
     },
     "metadata": {},
     "output_type": "display_data"
    }
   ],
   "source": [
    "from matplotlib import pyplot as plt\n",
    "\n",
    "plt.figure(figsize = (10, 5))\n",
    "plt.hist(Trpr_cds_length, bins = 100, range = (0, 3100))\n",
    "plt.xlabel(\"Transcript size\", size = 18)\n",
    "plt.ylabel(\"Count\", size = 18)\n",
    "plt.tick_params(labelsize=15)\n",
    "plt.show()"
   ]
  },
  {
   "cell_type": "code",
   "execution_count": 52,
   "metadata": {
    "scrolled": true
   },
   "outputs": [
    {
     "name": "stdout",
     "output_type": "stream",
     "text": [
      "There are 14288 coding sequences between 200 and 800 bp in length\n"
     ]
    }
   ],
   "source": [
    "Trpr_count_bt_200_800 = 0\n",
    "for length in Trpr_cds_length:\n",
    "    if length >= 200 and length <= 800:\n",
    "        Trpr_count_bt_200_800 += 1\n",
    "        \n",
    "print \"There are\",  Trpr_count_bt_200_800, \"coding sequences between 200 and 800 bp in length\"       "
   ]
  },
  {
   "cell_type": "markdown",
   "metadata": {},
   "source": [
    "### _Medicago truncatula_"
   ]
  },
  {
   "cell_type": "code",
   "execution_count": 53,
   "metadata": {},
   "outputs": [],
   "source": [
    "Metr_unique_ids = unique_gff3_gene_ids(Metr_db)"
   ]
  },
  {
   "cell_type": "code",
   "execution_count": 55,
   "metadata": {},
   "outputs": [
    {
     "name": "stdout",
     "output_type": "stream",
     "text": [
      "There are 17007 unique gene ids in the M. truncatula gff3 file\n"
     ]
    }
   ],
   "source": [
    "print \"There are\", len(Metr_unique_ids), \"unique gene ids in the M. truncatula gff3 file\""
   ]
  },
  {
   "cell_type": "code",
   "execution_count": 56,
   "metadata": {},
   "outputs": [],
   "source": [
    "Metr_cds_length = cds_length(Metr_unique_ids, Metr_db)"
   ]
  },
  {
   "cell_type": "code",
   "execution_count": 58,
   "metadata": {
    "scrolled": true
   },
   "outputs": [
    {
     "data": {
      "image/png": "[encoded data removed]",
      "text/plain": [
       "<matplotlib.figure.Figure at 0x10d9d5890>"
      ]
     },
     "metadata": {},
     "output_type": "display_data"
    }
   ],
   "source": [
    "from matplotlib import pyplot as plt\n",
    "\n",
    "plt.figure(figsize = (10, 5))\n",
    "plt.hist(Metr_cds_length, bins = 100, range = (0, 3400))\n",
    "plt.xlabel(\"Transcript size\", size = 18)\n",
    "plt.ylabel(\"Count\", size = 18)\n",
    "plt.tick_params(labelsize=15)\n",
    "plt.show()"
   ]
  },
  {
   "cell_type": "code",
   "execution_count": 59,
   "metadata": {
    "scrolled": true
   },
   "outputs": [
    {
     "name": "stdout",
     "output_type": "stream",
     "text": [
      "There are 29766 coding sequences between 200 and 800 bp in length\n"
     ]
    }
   ],
   "source": [
    "Metr_count_bt_200_800 = 0\n",
    "for length in Metr_cds_length:\n",
    "    if length >= 200 and length <= 800:\n",
    "        Metr_count_bt_200_800 += 1\n",
    "        \n",
    "print \"There are\",  Metr_count_bt_200_800, \"coding sequences between 200 and 800 bp in length\"       "
   ]
  },
  {
   "cell_type": "code",
   "execution_count": 33,
   "metadata": {},
   "outputs": [
    {
     "data": {
      "text/plain": [
       "33290"
      ]
     },
     "execution_count": 33,
     "metadata": {},
     "output_type": "execute_result"
    }
   ],
   "source": [
    "id_count = 0\n",
    "for feature in Trsu_db.features_of_type(\"gene\"):\n",
    "    id_count += 1\n",
    "    \n",
    "id_count"
   ]
  },
  {
   "cell_type": "code",
   "execution_count": 62,
   "metadata": {},
   "outputs": [
    {
     "name": "stdout",
     "output_type": "stream",
     "text": [
      "(64961, 24.338649000000068)\n"
     ]
    }
   ],
   "source": [
    "cds_200to800 = 0\n",
    "total_length = 0\n",
    "# parent_genes = []\n",
    "for feature in Metr_db.features_of_type(\"cds\"):\n",
    "    length = feature.end - feature.start\n",
    "    if length >= 200 and length <= 800:\n",
    "        cds_200to800 += 1\n",
    "        total_length += float(length) / (10**6)\n",
    "#         if feature.attributes['Parent'][0] not in parent_genes:\n",
    "#             parent_genes.append(feature.attributes['Parent'][0])\n",
    "\n",
    "print(cds_200to800, total_length)"
   ]
  },
  {
   "cell_type": "code",
   "execution_count": null,
   "metadata": {},
   "outputs": [],
   "source": []
  },
  {
   "cell_type": "code",
   "execution_count": 107,
   "metadata": {},
   "outputs": [],
   "source": [
    "import pandas as pd\n",
    "\n",
    "Metr_hits = pd.read_csv('../../data-clean/010_blastx/Medicago-truncatula/Nagy_transcriptome_ProteinBlast_Filtered.csv', \n",
    "                       usecols = ['qseqid'])\n",
    "Metr_hits.to_csv('../../data-clean/010_blastx/Medicago-truncatula/Nagy_transcriptome_ProteinBlast_Qseqids.txt', \n",
    "                 index=False, sep=' ', header=None)\n",
    "\n",
    "Trpr_hits = pd.read_csv('../../data-clean/010_blastx/Trifolium-pratense/Nagy_transcriptome_ProteinBlast_Filtered.csv', \n",
    "                       usecols = ['qseqid'])\n",
    "Trpr_hits.to_csv('../../data-clean/010_blastx/Trifolium-pratense/Nagy_transcriptome_ProteinBlast_Qseqids.txt', \n",
    "                 index=False, sep=' ', header=None)\n",
    "\n",
    "Trsu_hits = pd.read_csv('../../data-clean/010_blastx/Trifolium-subterraneum/Nagy_transcriptome_ProteinBlast_Filtered.csv', \n",
    "                       usecols = ['qseqid'])\n",
    "Trsu_hits.to_csv('../../data-clean/010_blastx/Trifolium-subterraneum/Nagy_transcriptome_ProteinBlast_Qseqids.txt', \n",
    "                 index=False, sep=' ', header=None)\n",
    "\n",
    "Trre_hits = pd.read_csv('../../data-clean/010_blastx/Trifolium-repens/Nagy_transcriptome_ProteinBlast_Filtered.csv', \n",
    "                       usecols = ['qseqid'])\n",
    "Trre_hits.to_csv('../../data-clean/010_blastx/Trifolium-repens/Nagy_transcriptome_ProteinBlast_Qseqids.txt', \n",
    "                 index=False, sep=' ', header=None)"
   ]
  },
  {
   "cell_type": "code",
   "execution_count": 80,
   "metadata": {},
   "outputs": [],
   "source": [
    "Metr_set = set(Metr_hits['qseqid'])\n",
    "Trpr_set = set(Trpr_hits['qseqid'])\n",
    "Trsu_set = set(Trsu_hits['qseqid'])"
   ]
  },
  {
   "cell_type": "code",
   "execution_count": 84,
   "metadata": {},
   "outputs": [
    {
     "data": {
      "text/plain": [
       "43826"
      ]
     },
     "execution_count": 84,
     "metadata": {},
     "output_type": "execute_result"
    }
   ],
   "source": [
    "len(Metr_set.intersection(Trpr_set, Trsu_set))"
   ]
  },
  {
   "cell_type": "code",
   "execution_count": 98,
   "metadata": {},
   "outputs": [
    {
     "data": {
      "text/plain": [
       "43826"
      ]
     },
     "execution_count": 98,
     "metadata": {},
     "output_type": "execute_result"
    }
   ],
   "source": [
    "def remove_union(**kwargs):\n",
    "       \n",
    "#     print(kwargs.values())\n",
    "\n",
    "    intersection = kwargs.values()[0].intersection(*kwargs.values()[1:])\n",
    "    \n",
    "    return(len(intersection))\n",
    "\n",
    "\n",
    "remove_union(Metr = Metr_set, Trpr = Trpr_set, Trsu = Trsu_set)  \n",
    "    "
   ]
  }
 ],
 "metadata": {
  "kernelspec": {
   "display_name": "Python 2",
   "language": "python",
   "name": "python2"
  },
  "language_info": {
   "codemirror_mode": {
    "name": "ipython",
    "version": 2
   },
   "file_extension": ".py",
   "mimetype": "text/x-python",
   "name": "python",
   "nbconvert_exporter": "python",
   "pygments_lexer": "ipython2",
   "version": "2.7.13"
  }
 },
 "nbformat": 4,
 "nbformat_minor": 2
}
